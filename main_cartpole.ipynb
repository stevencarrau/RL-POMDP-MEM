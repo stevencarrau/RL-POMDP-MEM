{
 "cells": [
  {
   "cell_type": "code",
   "execution_count": 1,
   "metadata": {},
   "outputs": [
    {
     "name": "stderr",
     "output_type": "stream",
     "text": [
      "/home/spc923/anaconda2/lib/python2.7/site-packages/h5py/__init__.py:34: FutureWarning: Conversion of the second argument of issubdtype from `float` to `np.floating` is deprecated. In future, it will be treated as `np.float64 == np.dtype(float).type`.\n",
      "  from ._conv import register_converters as _register_converters\n"
     ]
    }
   ],
   "source": [
    "import sys\n",
    "import numpy as np\n",
    "import gym\n",
    "from matplotlib import pyplot as plt\n",
    "from dqn import DQN\n",
    "from drqn import DRQN, Memory\n",
    "from reinforce import REINFORCE, PiApproximationWithNN, Baseline\n",
    "from reinforce_Buffer import REINFORCE as RF_Buffer, PiApproximationWithNN as Pi_Buffer, ReplayMemory\n",
    "import warnings\n",
    "warnings.filterwarnings('ignore')\n",
    "\n",
    "def test_DQN(env, run):\n",
    "    gamma = 1.0\n",
    "    return DQN(env, gamma, 1000, run)\n",
    "\n",
    "\n",
    "def test_DRQN(env, run):\n",
    "    gamma = 1.0\n",
    "    return DRQN(env, gamma, 1000, run)\n",
    "\n",
    "def test_reinforce(env,runs):\n",
    "    gamma = 1.\n",
    "    alpha = 3e-4\n",
    "\n",
    "    if 'tensorflow' in sys.modules:\n",
    "        import tensorflow as tf\n",
    "        tf.reset_default_graph()\n",
    "\n",
    "    pi = PiApproximationWithNN(\n",
    "        env.observation_space.shape[0],\n",
    "        env.action_space.n,\n",
    "        alpha)\n",
    "\n",
    "    B = Baseline(0.)\n",
    "\n",
    "    return REINFORCE(env, gamma, 1000, runs, pi, B)\n",
    "\n",
    "\n",
    "def test_reinforce_Buffer(env, mem_size, runs):\n",
    "    gamma = 1.\n",
    "    alpha = 3e-4\n",
    "\n",
    "    if 'tensorflow' in sys.modules:\n",
    "        import tensorflow as tf\n",
    "        tf.reset_default_graph()\n",
    "\n",
    "    pi = Pi_Buffer(\n",
    "        env.observation_space.shape[0],\n",
    "        env.action_space.n,\n",
    "        alpha,\n",
    "        mem_size)\n",
    "\n",
    "    B = Baseline(0.)\n",
    "\n",
    "    return RF_Buffer(env, gamma, 1000, runs, pi, B, mem_size)\n",
    "\n",
    "\n"
   ]
  },
  {
   "cell_type": "code",
   "execution_count": null,
   "metadata": {},
   "outputs": [
    {
     "name": "stdout",
     "output_type": "stream",
     "text": [
      "***************************************\n",
      "----------------> Without Buffer: 0\n"
     ]
    }
   ],
   "source": [
    "num_iter = 10\n",
    "env = gym.make(\"CartPole-v0\")\n",
    "\n",
    "without_buffer = []\n",
    "for q in range(num_iter):\n",
    "    print('***************************************')\n",
    "    print(\"----------------> Without Buffer: {}\".format(q))\n",
    "    training_progress = test_reinforce(env,q)\n",
    "    without_buffer.append(training_progress[0])\n",
    "    pi = training_progress[1]\n",
    "print('***************************************')\n",
    "without_buffer = np.mean(without_buffer, axis=0)\n",
    "    # play(env,pi)\n",
    "    \n",
    "    # Test REINFORCE_buffer size 2 and 5\n",
    "with_buffer2 = []\n",
    "for q in range(num_iter):\n",
    "    print('***************************************')\n",
    "    print(\"----------------> With Buffer = 2: {}\".format(q))\n",
    "    training_progress = test_reinforce_Buffer(env, 2, q)\n",
    "    with_buffer2.append(training_progress[0])\n",
    "    pi_buff = training_progress[1]\n",
    "print('***************************************')\n",
    "with_buffer2 = np.mean(with_buffer2, axis=0)\n",
    "    "
   ]
  },
  {
   "cell_type": "code",
   "execution_count": null,
   "metadata": {},
   "outputs": [],
   "source": [
    "# Plot the experiment result\n",
    "fig,ax = plt.subplots()\n",
    "ax.plot(np.arange(len(without_buffer)), without_buffer, label='No Buffer')\n",
    "ax.plot(np.arange(len(with_buffer2)), with_buffer2, label='Buffer - Size 2')\n",
    "# ax.plot(np.arange(len(with_buffer5)), with_buffer5, label='Buffer - Size 5')\n",
    "\n",
    "ax.set_xlabel('iteration')\n",
    "ax.set_ylabel('G_0')\n",
    "ax.legend()\n",
    "\n",
    "plt.show()\n"
   ]
  },
  {
   "cell_type": "code",
   "execution_count": null,
   "metadata": {},
   "outputs": [],
   "source": [
    "# # Test DQN\n",
    "dqn_list = []\n",
    "dqn_policies = []\n",
    "for q in range(num_iter):\n",
    "    dqn_rew, dqn_pi = test_DQN(env, q)\n",
    "    dqn_list.append(dqn_rew)\n",
    "    dqn_policies.append(dqn_pi)\n",
    "dqn_result = np.mean(dqn_list,axis=0)\n",
    "smoothed_dqn_result = running_mean(dqn_result, 10)\n",
    "#\n",
    "# Test DRQN\n",
    "drqn_list = []\n",
    "drqn_policies = []\n",
    "for q in range(num_iter):\n",
    "    drqn_rew, drqn_pi = test_DRQN(env, q)\n",
    "    drqn_list.append(drqn_rew)\n",
    "    drqn_policies.append(drqn_pi)\n",
    "drqn_result = np.mean(drqn_list, axis=0)\n",
    "smoothed_drqn_result = running_mean(drqn_result, 10)"
   ]
  },
  {
   "cell_type": "code",
   "execution_count": null,
   "metadata": {
    "collapsed": true
   },
   "outputs": [],
   "source": [
    "fig, ax = plt.subplots()\n",
    "ax.plot(np.arange(len(smoothed_dqn_result)), smoothed_dqn_result, label='DQN_smoothed')\n",
    "ax.plot(np.arange(len(dqn_result)), dqn_result, label='DQN', color='red', alpha=0.3)\n",
    "ax.plot(np.arange(len(smoothed_drqn_result)), smoothed_drqn_result, label='DRQN_smoothed')\n",
    "ax.plot(np.arange(len(drqn_result)), drqn_result, label='DRQN', color='grey', alpha=0.3)\n",
    "\n",
    "ax.set_xlabel('iteration')\n",
    "ax.set_ylabel('G_0')\n",
    "ax.legend()\n",
    "\n",
    "plt.show()\n"
   ]
  }
 ],
 "metadata": {
  "kernelspec": {
   "display_name": "Python 2",
   "language": "python",
   "name": "python2"
  },
  "language_info": {
   "codemirror_mode": {
    "name": "ipython",
    "version": 2
   },
   "file_extension": ".py",
   "mimetype": "text/x-python",
   "name": "python",
   "nbconvert_exporter": "python",
   "pygments_lexer": "ipython2",
   "version": "2.7.13"
  }
 },
 "nbformat": 4,
 "nbformat_minor": 2
}
